{
 "cells": [
  {
   "cell_type": "code",
   "execution_count": 273,
   "id": "initial_id",
   "metadata": {
    "collapsed": true,
    "ExecuteTime": {
     "end_time": "2024-05-13T01:36:30.039472Z",
     "start_time": "2024-05-13T01:36:29.837469Z"
    }
   },
   "outputs": [],
   "source": [
    "from bs4 import BeautifulSoup as bs\n",
    "import requests\n",
    "import re\n",
    "import spacy"
   ]
  },
  {
   "cell_type": "code",
   "execution_count": 274,
   "outputs": [],
   "source": [
    "headers = {\"User-Agent\": \"teng030918@gmail.com\"}\n",
    "def have_uci(str):\n",
    "    if \"University of California, Irvine\" in str or \"University of California Irvine\" in str or \"UC Irvine\" in str or \"UC, Irvine\" in str:\n",
    "        return True\n",
    "    return False\n",
    "url = \"https://www.sec.gov/Archives/edgar/data/1531177/000114036124022158/ny20024323x1_def14a.htm\"\n",
    "\n",
    "def get_name_from_url(url, headers):\n",
    "    response = requests.get(url, headers=headers)\n",
    "    doc = bs(response.content, 'html.parser')\n",
    "    doc_text = doc.get_text()\n",
    "    # print(len(doc_text))\n",
    "    \n",
    "    list_of_s = []\n",
    "    list_of_p = []\n",
    "    modified_p = []\n",
    "    con_string = \"\"\n",
    "    paragraphs = re.split('\\n', doc_text)\n",
    "    flag = 0\n",
    "    for i, paragraph in enumerate(paragraphs):\n",
    "        if not paragraph.endswith(\".\"):\n",
    "            if flag == 0:\n",
    "                con_string += paragraph.strip()\n",
    "                flag = 1\n",
    "            else:\n",
    "                con_string += paragraph.strip()  \n",
    "        else:\n",
    "            if flag == 1:\n",
    "                con_string += paragraph.strip()\n",
    "                modified_p.append(con_string)\n",
    "                con_string = \"\"\n",
    "                flag = 0\n",
    "            else:\n",
    "                modified_p.append(paragraph.strip())\n",
    "    if con_string != \"\":\n",
    "        modified_p.append(con_string)\n",
    "    # print(len(modified_p))\n",
    "    \n",
    "    \n",
    "    for p in modified_p:\n",
    "        if have_uci(p):\n",
    "                s = re.split(r'(?<!\\w\\.\\w.)(?<![A-Z][a-z]\\.)(?<=\\.|\\?)\\s', p)\n",
    "                list_of_p.append(p)\n",
    "                for i in s:\n",
    "                    if have_uci(i):\n",
    "                        list_of_s.append(i)\n",
    "    # print(len(list_of_p))\n",
    "    \n",
    "    nlp = spacy.load(\"en_core_web_sm\")\n",
    "    name_set = {}\n",
    "    \n",
    "    \n",
    "    def find_name(paragraph):\n",
    "    \n",
    "        doc = nlp(paragraph)\n",
    "        flag = 0\n",
    "        the_name = \"\"\n",
    "        line = \"\"\n",
    "        # Extract names of people related to the University of California, Irvine\n",
    "        for ent in reversed(doc.ents):\n",
    "            if ent.label_ == \"PERSON\":\n",
    "                if flag == 1:\n",
    "                    return ent.text, line\n",
    "                            \n",
    "            elif have_uci(ent.sent.text):\n",
    "                flag = 1\n",
    "                line = ent.sent.text\n",
    "        return the_name, line\n",
    "        \n",
    "    for p in list_of_p:\n",
    "        result, line = find_name(p)\n",
    "        if len(result) > 0:\n",
    "            name_set[result.strip()] = line\n",
    "            \n",
    "    return name_set\n",
    "    "
   ],
   "metadata": {
    "collapsed": false,
    "ExecuteTime": {
     "end_time": "2024-05-13T01:36:30.164834Z",
     "start_time": "2024-05-13T01:36:30.156309Z"
    }
   },
   "id": "fb6a5aba1aae7baa"
  },
  {
   "cell_type": "code",
   "execution_count": 280,
   "outputs": [],
   "source": [
    "import csv\n",
    "url_list = {}\n",
    "with open(\"sec_outputs.csv\", 'r') as csvfile:\n",
    "    reader = csv.reader(csvfile)\n",
    "    for row in reader:\n",
    "        if row[6] == \"DEF 14A\":\n",
    "            url_list[row[2]] = row[0]"
   ],
   "metadata": {
    "collapsed": false,
    "ExecuteTime": {
     "end_time": "2024-05-13T01:44:22.561786Z",
     "start_time": "2024-05-13T01:44:22.553152Z"
    }
   },
   "id": "751224e66e9457b4"
  },
  {
   "cell_type": "code",
   "execution_count": 281,
   "outputs": [
    {
     "name": "stdout",
     "output_type": "stream",
     "text": [
      "224\n"
     ]
    }
   ],
   "source": [
    "print(len(url_list))"
   ],
   "metadata": {
    "collapsed": false,
    "ExecuteTime": {
     "end_time": "2024-05-13T01:44:22.977826Z",
     "start_time": "2024-05-13T01:44:22.966191Z"
    }
   },
   "id": "721b6d108763776f"
  },
  {
   "cell_type": "code",
   "execution_count": 282,
   "outputs": [
    {
     "name": "stdout",
     "output_type": "stream",
     "text": [
      "{'Counsel': 'Mr.\\xa0Look holds a B.S. in Computer Science from the University of California, Irvineand a J.D. from the Pepperdine University School of Law.', 'Muzzy': 'Mr.\\xa0Muzzy graduated with a B.A. in Social Ecology from the University of California, Irvine, and has an MBAfrom Pepperdine University.  '}\n"
     ]
    }
   ],
   "source": [
    "test_url = \"https://www.sec.gov/Archives/edgar/data/1852575/000119312523095400/d494730ddef14a.htm\"\n",
    "test_result = get_name_from_url(test_url, headers)\n",
    "print(test_result)"
   ],
   "metadata": {
    "collapsed": false,
    "ExecuteTime": {
     "end_time": "2024-05-13T01:44:38.005968Z",
     "start_time": "2024-05-13T01:44:35.543472Z"
    }
   },
   "id": "599704858abb4845"
  },
  {
   "cell_type": "code",
   "execution_count": 286,
   "outputs": [],
   "source": [
    "with open(\"partial_names.csv\", 'w') as csvfile:\n",
    "    writer = csv.writer(csvfile)\n",
    "    writer.writerow([\"last_name\", \"url\", \"company cik\",\"sentence\"])"
   ],
   "metadata": {
    "collapsed": false,
    "ExecuteTime": {
     "end_time": "2024-05-13T02:07:15.783188Z",
     "start_time": "2024-05-13T02:07:15.776821Z"
    }
   },
   "id": "22abd3c67c0c7376"
  },
  {
   "cell_type": "code",
   "execution_count": 287,
   "outputs": [
    {
     "name": "stderr",
     "output_type": "stream",
     "text": [
      "Some characters could not be decoded, and were replaced with REPLACEMENT CHARACTER.\n",
      "Some characters could not be decoded, and were replaced with REPLACEMENT CHARACTER.\n",
      "Some characters could not be decoded, and were replaced with REPLACEMENT CHARACTER.\n",
      "Some characters could not be decoded, and were replaced with REPLACEMENT CHARACTER.\n",
      "Some characters could not be decoded, and were replaced with REPLACEMENT CHARACTER.\n",
      "Some characters could not be decoded, and were replaced with REPLACEMENT CHARACTER.\n",
      "Some characters could not be decoded, and were replaced with REPLACEMENT CHARACTER.\n",
      "Some characters could not be decoded, and were replaced with REPLACEMENT CHARACTER.\n"
     ]
    }
   ],
   "source": [
    "with open(\"partial_names.csv\", 'a') as csvfile:\n",
    "    writer = csv.writer(csvfile)\n",
    "    # counter = 0\n",
    "    for url in url_list.keys():\n",
    "        # if counter >= 10:\n",
    "        #     break\n",
    "        pairs = get_name_from_url(url, headers)\n",
    "        if len(pairs) > 0:\n",
    "            for name in pairs.keys():\n",
    "                writer.writerow([name, url, url_list[url], pairs[name]])\n",
    "        else:\n",
    "            writer.writerow([\"\", url, url_list[url], \"\"])\n",
    "        # counter += 1"
   ],
   "metadata": {
    "collapsed": false,
    "ExecuteTime": {
     "end_time": "2024-05-13T02:26:58.746339Z",
     "start_time": "2024-05-13T02:07:16.558796Z"
    }
   },
   "id": "46acc77d3fbd09dc"
  },
  {
   "cell_type": "code",
   "execution_count": null,
   "outputs": [],
   "source": [],
   "metadata": {
    "collapsed": false
   },
   "id": "8164894fce4f022f"
  }
 ],
 "metadata": {
  "kernelspec": {
   "display_name": "Python 3",
   "language": "python",
   "name": "python3"
  },
  "language_info": {
   "codemirror_mode": {
    "name": "ipython",
    "version": 2
   },
   "file_extension": ".py",
   "mimetype": "text/x-python",
   "name": "python",
   "nbconvert_exporter": "python",
   "pygments_lexer": "ipython2",
   "version": "2.7.6"
  }
 },
 "nbformat": 4,
 "nbformat_minor": 5
}
