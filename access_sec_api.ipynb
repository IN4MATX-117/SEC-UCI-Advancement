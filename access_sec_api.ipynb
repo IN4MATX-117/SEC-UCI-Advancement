{
 "cells": [
  {
   "cell_type": "code",
   "execution_count": 17,
   "id": "initial_id",
   "metadata": {
    "collapsed": true,
    "ExecuteTime": {
     "end_time": "2024-05-04T22:41:02.644917Z",
     "start_time": "2024-05-04T22:41:02.612257Z"
    }
   },
   "outputs": [],
   "source": [
    "import pandas as pd\n",
    "import requests\n",
    "from sec_api import *\n",
    "import csv"
   ]
  },
  {
   "cell_type": "code",
   "execution_count": 18,
   "outputs": [],
   "source": [
    "headers = {\"User-Agent\": \"teng030918@gmail.com\"}"
   ],
   "metadata": {
    "collapsed": false,
    "ExecuteTime": {
     "end_time": "2024-05-04T22:41:03.295522Z",
     "start_time": "2024-05-04T22:41:03.283182Z"
    }
   },
   "id": "5c13fe320ec6226d"
  },
  {
   "cell_type": "code",
   "execution_count": 19,
   "outputs": [
    {
     "name": "stdout",
     "output_type": "stream",
     "text": [
      "'University of California, Irvine'\n"
     ]
    }
   ],
   "source": [
    "print(\"'University of California, Irvine'\")"
   ],
   "metadata": {
    "collapsed": false,
    "ExecuteTime": {
     "end_time": "2024-05-04T22:41:04.180408Z",
     "start_time": "2024-05-04T22:41:04.169677Z"
    }
   },
   "id": "476d4e22abeeea3a"
  },
  {
   "cell_type": "code",
   "execution_count": 20,
   "outputs": [],
   "source": [
    "import requests\n",
    "import time\n",
    "\n",
    "# Define the API endpoint\n",
    "api_endpoint = \"https://api.sec-api.io/full-text-search\"\n",
    "\n",
    "page = 0\n",
    "files = {}\n",
    "\n",
    "# Define your search parameters\n",
    "search_params = {\n",
    "    \"query\": '\"University of California, Irvine\"',  # Example search query\n",
    "    # \"formTypes\": [\"8-K\", \"10-Q\"],  # Example form types\n",
    "    \"startDate\": \"2023-01-01\",\n",
    "    \"endDate\": \"2024-05-04\",\n",
    "}\n",
    "\n",
    "# Set the API key in the request headers\n",
    "headers = {\n",
    "    \"Authorization\": \"7933988e6af8641e0b8c997c7a32e8e80102a086909148434387bd899a3d1638\"\n",
    "}\n",
    "\n",
    "timeout_seconds = 600\n",
    "start_time = time.time()\n",
    "\n",
    "\n",
    "while True:\n",
    "        if time.time() - start_time > timeout_seconds:\n",
    "            print(\"Timeout reached. Exiting loop.\")\n",
    "            break\n",
    "        \n",
    "        search_params[\"page\"] = page\n",
    "        \n",
    "        response = requests.post(api_endpoint, json=search_params, headers=headers)\n",
    "        \n",
    "        # Check if the response is successful\n",
    "        if response.status_code != 200:\n",
    "            print(\"Error:\", response.status_code)\n",
    "            break\n",
    "            \n",
    "        # Parse the JSON response\n",
    "        data = response.json()\n",
    "        \n",
    "        # Extract filings information\n",
    "        filings = data.get(\"filings\", [])\n",
    "        # Print the filing details\n",
    "        for filing in filings:\n",
    "            if filing[\"cik\"] not in files.keys():\n",
    "                files[filing[\"cik\"]] = []\n",
    "                files[filing[\"cik\"]].append(filing)\n",
    "            else:\n",
    "                files[filing[\"cik\"]].append(filing)\n",
    "            \n",
    "        if not filings:\n",
    "            break\n",
    "        if len(filings) < 100:\n",
    "            break\n",
    "\n",
    "        page += 1"
   ],
   "metadata": {
    "collapsed": false,
    "ExecuteTime": {
     "end_time": "2024-05-04T22:41:21.101341Z",
     "start_time": "2024-05-04T22:41:05.434881Z"
    }
   },
   "id": "231066077d337e78"
  },
  {
   "cell_type": "code",
   "execution_count": 21,
   "outputs": [
    {
     "name": "stdout",
     "output_type": "stream",
     "text": [
      "283\n"
     ]
    }
   ],
   "source": [
    "print(len(files.keys()))"
   ],
   "metadata": {
    "collapsed": false,
    "ExecuteTime": {
     "end_time": "2024-05-04T22:41:23.126629Z",
     "start_time": "2024-05-04T22:41:23.101783Z"
    }
   },
   "id": "3ca696e35a1ac0b5"
  },
  {
   "cell_type": "code",
   "execution_count": 23,
   "outputs": [],
   "source": [
    "import csv\n",
    "with open(\"sec_outputs.csv\", 'w') as f:\n",
    "    writer = csv.writer(f)\n",
    "    writer.writerow([\"CIK\", \"accession number\",\"URL\", \"company\", \"ticker\", \"description\", \"form type\", \"type\", \"filed at\"])"
   ],
   "metadata": {
    "collapsed": false,
    "ExecuteTime": {
     "end_time": "2024-05-04T22:41:30.228468Z",
     "start_time": "2024-05-04T22:41:30.217758Z"
    }
   },
   "id": "fa214ac493e67b"
  },
  {
   "cell_type": "code",
   "execution_count": 24,
   "outputs": [],
   "source": [
    "with open(\"sec_outputs.csv\", 'a') as f:\n",
    "    writer = csv.writer(f)\n",
    "    for cik in files.keys():\n",
    "        file_list = files[cik]\n",
    "        for file in file_list:\n",
    "            writer.writerow([\n",
    "                file[\"cik\"],\n",
    "                file[\"accessionNo\"],\n",
    "                file[\"filingUrl\"],\n",
    "                file[\"companyNameLong\"],\n",
    "                file[\"ticker\"],\n",
    "                file[\"description\"],\n",
    "                file[\"formType\"],\n",
    "                file[\"type\"],\n",
    "                file[\"filedAt\"]\n",
    "            ])"
   ],
   "metadata": {
    "collapsed": false,
    "ExecuteTime": {
     "end_time": "2024-05-04T22:41:32.525192Z",
     "start_time": "2024-05-04T22:41:32.512849Z"
    }
   },
   "id": "8e61a07d11922a8d"
  },
  {
   "cell_type": "code",
   "execution_count": null,
   "outputs": [],
   "source": [],
   "metadata": {
    "collapsed": false
   },
   "id": "a9b5e90625011b1c"
  }
 ],
 "metadata": {
  "kernelspec": {
   "display_name": "Python 3",
   "language": "python",
   "name": "python3"
  },
  "language_info": {
   "codemirror_mode": {
    "name": "ipython",
    "version": 2
   },
   "file_extension": ".py",
   "mimetype": "text/x-python",
   "name": "python",
   "nbconvert_exporter": "python",
   "pygments_lexer": "ipython2",
   "version": "2.7.6"
  }
 },
 "nbformat": 4,
 "nbformat_minor": 5
}
